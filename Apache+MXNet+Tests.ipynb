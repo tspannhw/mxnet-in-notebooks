{
 "cells": [
  {
   "cell_type": "code",
   "execution_count": 7,
   "metadata": {
    "collapsed": false,
    "deletable": true,
    "editable": true
   },
   "outputs": [
    {
     "name": "stderr",
     "output_type": "stream",
     "text": [
      "/opt/conda/lib/python2.7/site-packages/mxnet/module/base_module.py:65: UserWarning: Data provided by label_shapes don't match names specified by label_names ([] vs. ['softmax_label'])\n",
      "  warnings.warn(msg)\n"
     ]
    },
    {
     "name": "stdout",
     "output_type": "stream",
     "text": [
      "{\"top1pct\": \"11.9\", \"top5\": \"n04336792 stretcher\", \"top4\": \"n06359193 web site, website, internet site, site\", \"top3\": \"n04370456 sweatshirt\", \"top2\": \"n04149813 scoreboard\", \"top1\": \"n03796401 moving van\", \"top2pct\": \"7.0\", \"imagefilename\": \"/user-home/999/DSX_Projects/dsx-samples/datasets/TimHCC.png\", \"top3pct\": \"3.8\", \"uuid\": \"mxnet_uuid_json_20180228150510.json\", \"top4pct\": \"3.5\", \"top5pct\": \"3.4\", \"runtime\": \"0.0\"}\n"
     ]
    }
   ],
   "source": [
    "# fork of previous ones forked from Apache MXNet examples\n",
    "# https://github.com/tspannhw/mxnet_rpi/blob/master/analyze.py\n",
    "import time\n",
    "import sys\n",
    "import datetime\n",
    "import subprocess\n",
    "import sys\n",
    "import os\n",
    "import datetime\n",
    "import traceback\n",
    "import math\n",
    "import random, string\n",
    "import base64\n",
    "import json\n",
    "from time import gmtime, strftime\n",
    "import mxnet as mx\n",
    "import numpy as np\n",
    "import math\n",
    "import random, string\n",
    "import time\n",
    "from time import gmtime, strftime\n",
    "# forked from Apache MXNet example with minor changes for osx\n",
    "import time\n",
    "import mxnet as mx\n",
    "import numpy as np\n",
    "import cv2, os, urllib\n",
    "from collections import namedtuple\n",
    "Batch = namedtuple('Batch', ['data'])\n",
    "\n",
    "# Load the symbols for the networks\n",
    "with open('/user-home/999/DSX_Projects/dsx-samples/datasets/synset.txt', 'r') as f:\n",
    "    synsets = [l.rstrip() for l in f]\n",
    "\n",
    "# Load the network parameters\n",
    "sym, arg_params, aux_params = mx.model.load_checkpoint('/user-home/999/DSX_Projects/dsx-samples/datasets/Inception-BN', 0)\n",
    "\n",
    "# Load the network into an MXNet module and bind the corresponding parameters\n",
    "mod = mx.mod.Module(symbol=sym, context=mx.cpu())\n",
    "mod.bind(for_training=False, data_shapes=[('data', (1,3,224,224))])\n",
    "mod.set_params(arg_params, aux_params)\n",
    "\n",
    "'''\n",
    "Function to predict objects by giving the model a pointer to an image file and running a forward pass through the model.\n",
    "\n",
    "inputs:\n",
    "filename = jpeg file of image to classify objects in\n",
    "mod = the module object representing the loaded model\n",
    "synsets = the list of symbols representing the model\n",
    "N = Optional parameter denoting how many predictions to return (default is top 5)\n",
    "\n",
    "outputs:\n",
    "python list of top N predicted objects and corresponding probabilities\n",
    "'''\n",
    "def predict(filename, mod, synsets, N=5):\n",
    "    tic = time.time()\n",
    "    img = cv2.cvtColor(cv2.imread(filename), cv2.COLOR_BGR2RGB)\n",
    "    if img is None:\n",
    "        return None\n",
    "    img = cv2.resize(img, (224, 224))\n",
    "    img = np.swapaxes(img, 0, 2)\n",
    "    img = np.swapaxes(img, 1, 2)\n",
    "    img = img[np.newaxis, :]\n",
    "\n",
    "    toc = time.time()\n",
    "    mod.forward(Batch([mx.nd.array(img)]))\n",
    "    prob = mod.get_outputs()[0].asnumpy()\n",
    "    prob = np.squeeze(prob)\n",
    "\n",
    "    topN = []\n",
    "    a = np.argsort(prob)[::-1]\n",
    "    for i in a[0:N]:\n",
    "        topN.append((prob[i], synsets[i]))\n",
    "    return topN\n",
    "\n",
    "\n",
    "# Code to download an image from the internet and run a prediction on it\n",
    "def predict_from_url(url, N=5):\n",
    "    filename = url.split(\"/\")[-1]\n",
    "    urllib.urlretrieve(url, filename)\n",
    "    img = cv2.imread(filename)\n",
    "    if img is None:\n",
    "        print( \"Failed to download\" )\n",
    "    else:\n",
    "        return predict(filename, mod, synsets, N)\n",
    "\n",
    "# Code to predict on a local file\n",
    "def predict_from_local_file(filename, N=5):\n",
    "    return predict(filename, mod, synsets, N)\n",
    "\n",
    "start = time.time()\n",
    "\n",
    "packet_size=3000\n",
    "\n",
    "\n",
    "# Create unique image name\n",
    "uniqueid = 'mxnet_uuid_{0}_{1}.json'.format('json',strftime(\"%Y%m%d%H%M%S\",gmtime()))\n",
    "\n",
    "filename = '/user-home/999/DSX_Projects/dsx-samples/datasets/TimHCC.png'\n",
    "topn = []\n",
    "# Run inception prediction on image\n",
    "try:\n",
    "     topn = predict_from_local_file(filename, N=5)\n",
    "except:\n",
    "     print(\"Error\")\n",
    "     errorcondition = \"true\"\n",
    "\n",
    "try:\n",
    "     # 5 MXNET Analysis\n",
    "     top1 = str(topn[0][1])\n",
    "     top1pct = str(round(topn[0][0],3) * 100)\n",
    "\n",
    "     top2 = str(topn[1][1])\n",
    "     top2pct = str(round(topn[1][0],3) * 100)\n",
    "\n",
    "     top3 = str(topn[2][1])\n",
    "     top3pct = str(round(topn[2][0],3) * 100)\n",
    "\n",
    "     top4 = str(topn[3][1])\n",
    "     top4pct = str(round(topn[3][0],3) * 100)\n",
    "\n",
    "     top5 = str(topn[4][1])\n",
    "     top5pct = str(round(topn[4][0],3) * 100)\n",
    "\n",
    "     end = time.time()\n",
    "\n",
    "     row = { 'uuid': uniqueid,  'top1pct': top1pct, 'top1': top1, 'top2pct': top2pct, 'top2': top2,'top3pct': top3pct, 'top3': top3,'top4pct': top4pct,'top4': top4, 'top5pct': top5pct,'top5': top5, 'imagefilename': filename, 'runtime': str(round(end - start)) }\n",
    "     json_string = json.dumps(row)\n",
    "\n",
    "     print (json_string)\n",
    "     \n",
    "except:\n",
    "     print(\"{\\\"message\\\": \\\"Failed to run\\\"}\")\n"
   ]
  },
  {
   "cell_type": "code",
   "execution_count": 3,
   "metadata": {
    "collapsed": false,
    "deletable": true,
    "editable": true
   },
   "outputs": [
    {
     "name": "stdout",
     "output_type": "stream",
     "text": [
      "Collecting opencv-python\n",
      "  Downloading opencv_python-3.4.0.12-cp27-cp27mu-manylinux1_x86_64.whl (24.9MB)\n",
      "\u001b[K    100% |████████████████████████████████| 24.9MB 16kB/s  eta 0:00:01\n",
      "\u001b[?25hRequirement already satisfied: numpy>=1.11.1 in /opt/conda/lib/python2.7/site-packages (from opencv-python)\n",
      "Installing collected packages: opencv-python\n",
      "Successfully installed opencv-python\n"
     ]
    }
   ],
   "source": [
    "!pip install --user  opencv-python\n"
   ]
  },
  {
   "cell_type": "code",
   "execution_count": 6,
   "metadata": {
    "collapsed": false,
    "deletable": true,
    "editable": true
   },
   "outputs": [
    {
     "name": "stdout",
     "output_type": "stream",
     "text": [
      "Inception-BN-0000.params  Inception-BN-symbol.json  synset.txt\r\n",
      "Inception-BN.model\t  inception-bn.tar.gz\t    TimHCC.png\r\n"
     ]
    }
   ],
   "source": [
    "!ls /user-home/999/DSX_Projects/dsx-samples/datasets"
   ]
  }
 ],
 "metadata": {
  "kernelspec": {
   "display_name": "Python 2",
   "language": "python",
   "name": "python2"
  },
  "language_info": {
   "codemirror_mode": {
    "name": "ipython",
    "version": 2
   },
   "file_extension": ".py",
   "mimetype": "text/x-python",
   "name": "python",
   "nbconvert_exporter": "python",
   "pygments_lexer": "ipython2",
   "version": "2.7.13"
  }
 },
 "nbformat": 4,
 "nbformat_minor": 2
}
